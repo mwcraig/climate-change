{
 "cells": [
  {
   "cell_type": "code",
   "execution_count": null,
   "metadata": {},
   "outputs": [],
   "source": [
    "from astropy.table import Table \n",
    "from bqplot import LinearScale, Scatter, Axis, Figure, Lines\n",
    "import numpy as np\n",
    "from ipywidgets import HBox"
   ]
  },
  {
   "cell_type": "code",
   "execution_count": null,
   "metadata": {},
   "outputs": [],
   "source": [
    "anth_emit = Table.read('anthro_emissions.ecsv', format='ascii.ecsv')\n",
    "ipcc_future = Table.read('ipcc_future_scenarios.csv')\n",
    "gases = Table.read('ipcc-gas-concentrations.csv', format='ascii.ecsv')\n",
    "temps = Table.read('graph.csv')"
   ]
  },
  {
   "cell_type": "code",
   "execution_count": null,
   "metadata": {},
   "outputs": [],
   "source": [
    "rpc_models = {\n",
    "    'RCP2.6': ipcc_future['RCP2.6'],\n",
    "    'RCP4.5': ipcc_future['RCP4.5'],\n",
    "    'RCP6.0': ipcc_future['RCP6.0'],\n",
    "    'RCP8.5': ipcc_future['RCP8.5']\n",
    "}"
   ]
  },
  {
   "cell_type": "code",
   "execution_count": null,
   "metadata": {},
   "outputs": [],
   "source": [
    "def gtc_to_ppm(gtc):\n",
    "    \"\"\"\n",
    "    Return amount of carbon in Gt from concetration in parts per million.\n",
    "    \"\"\"\n",
    "    mw_carbon = 12\n",
    "    mw_air = 29\n",
    "    mass_air = 5.184e6 # Gt\n",
    "    \n",
    "    return (gtc / mw_air)/(mass_air / mw_air) * 1e6\n"
   ]
  },
  {
   "cell_type": "markdown",
   "metadata": {},
   "source": [
    "# Key Assumptions\n",
    "\n",
    "+ The model from [this notebook]() is adopted, with $\\rho_b=$353ppm, $T_b=287.35$K, $f=0.27$ and $T_{bare}$=255K. \n",
    "+ Based on the description in the Technical Summary for Working Group 1 for the IPCC AR5, 43% of anthropogenic emissions go into the atmosphere. See section TS2.8 on p. 50 of [this document](http://www.ipcc.ch/pdf/assessment-report/ar5/wg1/WG1AR5_TS_FINAL.pdf).\n",
    "+ Future emissions are integrated to update future concentration numbers, and the emission graph is presented in GtC/yr instead of ppm/yr to match what is easily available in the Summary for Policymakers."
   ]
  },
  {
   "cell_type": "code",
   "execution_count": null,
   "metadata": {},
   "outputs": [],
   "source": [
    "\n",
    "#def temp_model(concentration, temp_bare=255, f=0.25, Tb=286.6, ppm_b=280):\n",
    "\n",
    "def temp_model(concentration, temp_bare=255, f=0.27, Tb=287.35, ppm_b=353):\n",
    "    n_b = (Tb/temp_bare)**4 -1\n",
    "    A = f * n_b / ppm_b**0.5\n",
    "    B = f + (1 - f) * (1 + n_b)\n",
    "    out_temp = (A * np.sqrt(concentration) + B)**0.25 * temp_bare\n",
    "    return out_temp"
   ]
  },
  {
   "cell_type": "code",
   "execution_count": null,
   "metadata": {},
   "outputs": [],
   "source": [
    "future_year = [anth_emit['Year'][-1]] +  [2020, 2040, 2060, 2080, 2100]\n",
    "constant_emit = [anth_emit['Total'][-1]] * len(future_year)\n",
    "no_emit = [0] * len(future_year)"
   ]
  },
  {
   "cell_type": "code",
   "execution_count": null,
   "metadata": {},
   "outputs": [],
   "source": [
    "# Start by defining a scale for each axis\n",
    "sc_x = LinearScale(min=1950, max=2100)\n",
    "\n",
    "# The amplitudes are limited to ±1 for this example...\n",
    "sc_y = LinearScale()  # min=0, max=30000\n",
    "\n",
    "future_handles = Scatter(x=future_year, y=constant_emit,\n",
    "                         scales={'x': sc_x, 'y': sc_y}, \n",
    "                         colors=['orange'],\n",
    "                         enable_move=True)\n",
    "future_line = Lines(name='interactive projection', \n",
    "                    x=future_handles.x,\n",
    "                    y=future_handles.y,\n",
    "                    scales={'x': sc_x, 'y': sc_y},\n",
    "                    colors=['orange'])\n",
    "\n",
    "history = Lines(name='historical', x=anth_emit['Year'], y=anth_emit['Total'],\n",
    "             scales={'x': sc_x, 'y': sc_y}, \n",
    "               colors=['gray'])\n",
    "\n",
    "rpc_lines = []\n",
    "colors = ['red', 'orange', 'blue', 'green']\n",
    "for k, v in rpc_models.items():\n",
    "    tmp = [dat for dat in v]\n",
    "    c = colors.pop()\n",
    "    l = Lines(name=k, x=future_year, y=[anth_emit['Total'][-1]] + tmp,\n",
    "              scales={'x': sc_x, 'y': sc_y},\n",
    "              colors=[c],\n",
    "              opacities=[0.2])\n",
    "    rpc_lines.append(l)\n",
    "    \n",
    "# Only allow points to be moved vertically...\n",
    "future_handles.restrict_y = True\n",
    "\n",
    "# Define the axes themselves\n",
    "ax_x = Axis(scale=sc_x, label='Year')\n",
    "ax_y = Axis(scale=sc_y, orientation='vertical', label='GtC/yr', label_offset='3em')\n",
    "\n",
    "# The graph itself...\n",
    "amplitude_control = Figure(marks=[future_handles, future_line, history] + rpc_lines, axes=[ax_x, ax_y], \n",
    "                           title='CO2 emissions')\n",
    "def update_line(change):\n",
    "    future_line.y = change['new']\n",
    "\n",
    "future_handles.observe(update_line, names=['y'])"
   ]
  },
  {
   "cell_type": "code",
   "execution_count": null,
   "metadata": {},
   "outputs": [],
   "source": [
    "# Start by defining a scale for each axis\n",
    "sc_x = LinearScale(min=1950, max=2100)\n",
    "\n",
    "# The amplitudes are limited to ±1 for this example...\n",
    "sc_y = LinearScale()\n",
    "\n",
    "temp_line = Lines(name='temperature',scales={'x': sc_x, 'y': sc_y})\n",
    "\n",
    "ax_x = Axis(scale=sc_x, label='Year')\n",
    "ax_y = Axis(scale=sc_y, orientation='vertical', label='Temperature')\n",
    "\n",
    "temperature_graph = Figure(marks=[temp_line], axes=[ax_x, ax_y], title='temperature forecast')"
   ]
  },
  {
   "cell_type": "code",
   "execution_count": null,
   "metadata": {},
   "outputs": [],
   "source": [
    "def future_concentration():\n",
    "    integrated_emit = np.cumsum(future_handles.y[1:]*(future_handles.x[1:] - future_handles.x[0:-1]))\n",
    "    future = gtc_to_ppm(integrated_emit/1000) + gases['CO2'][-1]\n",
    "    return future  "
   ]
  },
  {
   "cell_type": "code",
   "execution_count": null,
   "metadata": {},
   "outputs": [],
   "source": [
    "def update_prediction(change):\n",
    "    future_gases_ppm = future_concentration()\n",
    "    future_years = future_handles.x[1:]\n",
    "    years = np.append(gases['Year'], future_years)\n",
    "    concentrations = np.append(gases['CO2'], future_gases_ppm)\n",
    "    temps = temp_model(concentrations)\n",
    "    temp_line.x = years\n",
    "    temp_line.y = temps - 287"
   ]
  },
  {
   "cell_type": "code",
   "execution_count": null,
   "metadata": {},
   "outputs": [],
   "source": [
    "future_handles.observe(update_prediction, names=['y'])"
   ]
  },
  {
   "cell_type": "code",
   "execution_count": null,
   "metadata": {},
   "outputs": [],
   "source": [
    "box = HBox()\n",
    "amplitude_control.layout.width = '50%'\n",
    "temperature_graph.layout.width = '50%'\n",
    "box.children = [amplitude_control, temperature_graph]\n",
    "update_prediction(None)\n",
    "box"
   ]
  },
  {
   "cell_type": "code",
   "execution_count": null,
   "metadata": {},
   "outputs": [],
   "source": []
  }
 ],
 "metadata": {
  "kernelspec": {
   "display_name": "Python 3 (ipykernel)",
   "language": "python",
   "name": "python3"
  },
  "language_info": {
   "codemirror_mode": {
    "name": "ipython",
    "version": 3
   },
   "file_extension": ".py",
   "mimetype": "text/x-python",
   "name": "python",
   "nbconvert_exporter": "python",
   "pygments_lexer": "ipython3",
   "version": "3.10.0"
  }
 },
 "nbformat": 4,
 "nbformat_minor": 4
}
